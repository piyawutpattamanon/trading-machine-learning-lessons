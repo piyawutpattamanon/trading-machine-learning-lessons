{
 "cells": [
  {
   "cell_type": "markdown",
   "metadata": {},
   "source": [
    "# Scenario 1: Naive Back Testing\n",
    "Evaluate on the training data\n",
    "\n",
    "See overly good accuracy since the model just \"memorize\" the data instead of learning any \"principle\""
   ]
  },
  {
   "cell_type": "code",
   "execution_count": 1,
   "metadata": {},
   "outputs": [],
   "source": [
    "# read raw data from CSV\n",
    "\n",
    "import csv\n",
    "\n",
    "rows = []\n",
    "with open('synasset.csv') as f:\n",
    "    reader = csv.reader(f)\n",
    "    for i, row in enumerate(reader):\n",
    "        if i > 0:\n",
    "            rows.append(row)"
   ]
  },
  {
   "cell_type": "code",
   "execution_count": 2,
   "metadata": {},
   "outputs": [],
   "source": [
    "# create input variable X and output variable Y training data\n",
    "\n",
    "xs = []\n",
    "ys = []\n",
    "for i, row in enumerate(rows):\n",
    "    if 5 < i:\n",
    "        x = []\n",
    "        for j in range(1, 5+1):\n",
    "            x += [float(v) for v in rows[i-j][1:26]]\n",
    "        y = [int(rows[i][82])]\n",
    "        xs.append(x)\n",
    "        ys.append(y)"
   ]
  },
  {
   "cell_type": "code",
   "execution_count": 7,
   "metadata": {
    "collapsed": true
   },
   "outputs": [
    {
     "name": "stderr",
     "output_type": "stream",
     "text": [
      "/usr/local/lib/python3.6/site-packages/sklearn/utils/validation.py:578: DataConversionWarning: A column-vector y was passed when a 1d array was expected. Please change the shape of y to (n_samples, ), for example using ravel().\n",
      "  y = column_or_1d(y, warn=True)\n"
     ]
    },
    {
     "data": {
      "text/plain": [
       "SVC(C=1.0, cache_size=200, class_weight=None, coef0=0.0,\n",
       "  decision_function_shape='ovr', degree=3, gamma='auto', kernel='rbf',\n",
       "  max_iter=-1, probability=False, random_state=None, shrinking=True,\n",
       "  tol=0.001, verbose=False)"
      ]
     },
     "execution_count": 7,
     "metadata": {},
     "output_type": "execute_result"
    }
   ],
   "source": [
    "# train\n",
    "\n",
    "from sklearn import svm\n",
    "clf = svm.SVC()\n",
    "clf.fit(xs, ys)"
   ]
  },
  {
   "cell_type": "code",
   "execution_count": 8,
   "metadata": {},
   "outputs": [
    {
     "name": "stdout",
     "output_type": "stream",
     "text": [
      "accuracy 97.86%\n"
     ]
    }
   ],
   "source": [
    "# evaluate the accuracy\n",
    "# accuracy will be overly good\n",
    "\n",
    "yps = clf.predict(xs)\n",
    "\n",
    "from sklearn.metrics import accuracy_score\n",
    "accuracy = accuracy_score(ys, yps)\n",
    "\n",
    "print('accuracy {:.2f}%'.format(accuracy * 100))"
   ]
  },
  {
   "cell_type": "markdown",
   "metadata": {},
   "source": [
    "# Scenario 2: Out-of-sample testing\n",
    "\n",
    "don't use training data to evaluate the model\n",
    "\n",
    "we will 70% of original data as training data\n",
    "\n",
    "and the remaining 30% of original data to evaluate\n",
    "\n",
    "and we will see the reality that our model is not that better than coin toss"
   ]
  },
  {
   "cell_type": "code",
   "execution_count": 10,
   "metadata": {},
   "outputs": [],
   "source": [
    "# read raw data from CSV\n",
    "\n",
    "import csv\n",
    "\n",
    "rows = []\n",
    "with open('synasset.csv') as f:\n",
    "    reader = csv.reader(f)\n",
    "    for i, row in enumerate(reader):\n",
    "        if i > 0:\n",
    "            rows.append(row)"
   ]
  },
  {
   "cell_type": "code",
   "execution_count": 11,
   "metadata": {},
   "outputs": [],
   "source": [
    "# create input variable X and output variable Y training data\n",
    "\n",
    "xs = []\n",
    "ys = []\n",
    "for i, row in enumerate(rows):\n",
    "    if 5 < i:\n",
    "        x = []\n",
    "        for j in range(1, 5+1):\n",
    "            x += [float(v) for v in rows[i-j][1:26]]\n",
    "        y = [int(rows[i][82])]\n",
    "        xs.append(x)\n",
    "        ys.append(y)"
   ]
  },
  {
   "cell_type": "code",
   "execution_count": 17,
   "metadata": {},
   "outputs": [],
   "source": [
    "# separate between \"training\" data and \"evaluation\" data\n",
    "# use 70% of data to train the model\n",
    "# use 30% of data for evaluation\n",
    "\n",
    "train_xs = [xs[i] for i in range(len(xs)) if i % 10 >= 3]\n",
    "train_ys = [ys[i] for i in range(len(ys)) if i % 10 >= 3]\n",
    "validate_xs = [xs[i] for i in range(len(xs)) if i % 10 < 3]\n",
    "validate_ys = [ys[i] for i in range(len(ys)) if i % 10 < 3]"
   ]
  },
  {
   "cell_type": "code",
   "execution_count": 18,
   "metadata": {
    "collapsed": true
   },
   "outputs": [
    {
     "name": "stderr",
     "output_type": "stream",
     "text": [
      "/usr/local/lib/python3.6/site-packages/sklearn/utils/validation.py:578: DataConversionWarning: A column-vector y was passed when a 1d array was expected. Please change the shape of y to (n_samples, ), for example using ravel().\n",
      "  y = column_or_1d(y, warn=True)\n"
     ]
    },
    {
     "data": {
      "text/plain": [
       "SVC(C=1.0, cache_size=200, class_weight=None, coef0=0.0,\n",
       "  decision_function_shape='ovr', degree=3, gamma='auto', kernel='rbf',\n",
       "  max_iter=-1, probability=False, random_state=None, shrinking=True,\n",
       "  tol=0.001, verbose=False)"
      ]
     },
     "execution_count": 18,
     "metadata": {},
     "output_type": "execute_result"
    }
   ],
   "source": [
    "# train\n",
    "\n",
    "from sklearn import svm\n",
    "clf = svm.SVC()\n",
    "clf.fit(train_xs, train_ys)"
   ]
  },
  {
   "cell_type": "code",
   "execution_count": 19,
   "metadata": {},
   "outputs": [
    {
     "name": "stdout",
     "output_type": "stream",
     "text": [
      "accuracy 52.42%\n"
     ]
    }
   ],
   "source": [
    "# evaluation\n",
    "# see the reality that it's not that better than coin-toss\n",
    "\n",
    "yps = clf.predict(validate_xs)\n",
    "\n",
    "from sklearn.metrics import accuracy_score\n",
    "accuracy = accuracy_score(validate_ys, yps)\n",
    "\n",
    "print('accuracy {:.2f}%'.format(accuracy * 100))"
   ]
  }
 ],
 "metadata": {
  "kernelspec": {
   "display_name": "Python 3",
   "language": "python",
   "name": "python3"
  },
  "language_info": {
   "codemirror_mode": {
    "name": "ipython",
    "version": 3
   },
   "file_extension": ".py",
   "mimetype": "text/x-python",
   "name": "python",
   "nbconvert_exporter": "python",
   "pygments_lexer": "ipython3",
   "version": "3.6.4"
  }
 },
 "nbformat": 4,
 "nbformat_minor": 2
}
